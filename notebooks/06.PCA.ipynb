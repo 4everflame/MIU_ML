{
  "nbformat": 4,
  "nbformat_minor": 0,
  "metadata": {
    "colab": {
      "name": "04.linear_regression.ipynb",
      "provenance": [],
      "toc_visible": true,
      "authorship_tag": "ABX9TyMMoEwUcpFpOnRDnZsLyEKW",
      "include_colab_link": true
    },
    "kernelspec": {
      "name": "python3",
      "display_name": "Python 3"
    },
    "language_info": {
      "name": "python"
    }
  },
  "cells": [
    {
      "cell_type": "markdown",
      "metadata": {
        "id": "view-in-github",
        "colab_type": "text"
      },
      "source": [
        "<a href=\"https://colab.research.google.com/github/changsin/MIU_ML/blob/main/notebooks/06.PCA.ipynb\" target=\"_parent\"><img src=\"https://colab.research.google.com/assets/colab-badge.svg\" alt=\"Open In Colab\"/></a>"
      ]
    },
    {
      "cell_type": "markdown",
      "metadata": {
        "id": "ZGXC7yKOxbBY"
      },
      "source": [
        "# Linear regression\n",
        "Linear regression is a parametric method that follows a linear model: i.e., there is a linear relationship between variables.\n"
      ]
    },
    {
      "cell_type": "markdown",
      "metadata": {
        "id": "m8vekSZQYFB9"
      },
      "source": [
        "## Model\n",
        "The equation of the linear model is:\n",
        "\n",
        "$$ h_\\theta(x) = \\theta_0 + \\theta_1x $$\n",
        "\n",
        "- h: hypothesis\n",
        "- $\\theta_0, \\theta_1 $: parameters\n",
        "- x: input\n"
      ]
    },
    {
      "cell_type": "markdown",
      "metadata": {
        "id": "26Sd2y0iWlwd"
      },
      "source": [
        "## Cost function\n",
        "Following Andrew Ng's [Coursera Machine Learning](https://www.coursera.org/learn/machine-learning), here is the cost function we use a slightly modified MSE (Mean Squared Error) to compute the error:\n",
        "\n",
        "*(To display math expressions correctly, open the notebook in colab)\n",
        "\n",
        "$$ J(\\theta) = \\frac{1}{2m}\\sum\\limits_{t=1}^{m}(h_\\theta(x^{(i)}) - y^{(i)})^2 $$\n",
        "\n",
        "- $J(\\theta)$: Cost function\n",
        "- m: number  of samples\n",
        "- h: hypothesis\n",
        "- y: ground truth\n",
        "\n",
        "### Two things to note are:\n",
        "1. Note that the superscript i in ($x^{(i)}, y^{(i)}$) does not mean an exponential term , but an index.\n",
        "2. The denominator m is multiplied by 2 to make further calculations (i.e., taking derivatives) easy. It does not affect the result in computing the errors.\n",
        "\n"
      ]
    },
    {
      "cell_type": "markdown",
      "metadata": {
        "id": "V91X4QbmZ6cb"
      },
      "source": [
        "## Gradient Descent\n",
        "The goal of linear regression is to find the parameters $\\theta_0$ and $ \\theta_1$ that minimize the error.\n",
        "That amounts to taking partial derivatives of the quadratic error function in terms of the two parameter terms $\\theta_0$ and $ \\theta_1$. You can see why by plotting the error function. The convex shape tells us that there is a global minimum at the lowest point and partial derivatives would help us calculate how much we need to adjust the parameters on each iteration. \n"
      ]
    },
    {
      "cell_type": "code",
      "metadata": {
        "colab": {
          "base_uri": "https://localhost:8080/",
          "height": 282
        },
        "id": "oojG5rHiaQb9",
        "outputId": "949ae4c5-3408-48ff-fb1a-aa15a30d29fc"
      },
      "source": [
        "import numpy as np\n",
        "import matplotlib.pyplot as plt\n",
        "\n",
        "X = np.arange(-10, 11, 1)\n",
        "Y = X**2\n",
        "Y\n",
        "plt.plot(X, Y)"
      ],
      "execution_count": 118,
      "outputs": [
        {
          "output_type": "execute_result",
          "data": {
            "text/plain": [
              "[<matplotlib.lines.Line2D at 0x7f86b35e1890>]"
            ]
          },
          "metadata": {},
          "execution_count": 118
        },
        {
          "output_type": "display_data",
          "data": {
            "image/png": "[encoded data removed]",
            "text/plain": [
              "<Figure size 432x288 with 1 Axes>"
            ]
          },
          "metadata": {
            "needs_background": "light"
          }
        }
      ]
    },
    {
      "cell_type": "markdown",
      "metadata": {
        "id": "NzM9wzjUcFVO"
      },
      "source": [
        "### Derivation of partial derivatives\n",
        "Taking partial derivatives on the cost function J:\n",
        "$$\n",
        "J(\\theta) = \\frac{1}{2m}\\sum\\limits_{t=1}^{m}(h_\\theta(x^{(i)}) - y^{(i)})^2 \n",
        "$$\n",
        "\n",
        "means:\n",
        "\n",
        "$$\n",
        "\\frac{\\delta}{\\delta\\theta_j} J(\\theta_0, \\theta_1) = \\frac{\\delta}{\\delta\\theta_j}[ \\frac{1}{2m}\\sum\\limits_{t=1}^{m}(h_\\theta(x^{(i)}) - y^{(i)})^2 ]\n",
        "$$\n",
        "\n",
        "Since $h_\\theta = \\theta_0 + \\theta_1x $, we can substitute h:\n",
        "\n",
        "$$\n",
        " = \\frac{\\delta}{\\delta\\theta_j}[ \\frac{1}{2m}\\sum\\limits_{t=1}^{m}(\\theta_0 + \\theta_1x^{(i)} - y^{(i)})^2 ]\n",
        "$$\n",
        "\n",
        "To take a partial derivative, you need to expand the term.\n",
        "\n",
        "$$\n",
        " (\\theta_0 + \\theta_1x^{(i)} - y^{(i)})^2 = \\theta_0^2 + (\\theta_1x^{(i)})^2 + (y^{(i)})^2 + 2\\theta_0 \\theta_1x^{(i)} - 2\\theta_0 y^{(i)} - 2\\theta_1x^{(i)} y^{(i)}\n",
        "$$"
      ]
    },
    {
      "cell_type": "markdown",
      "metadata": {
        "id": "p3-1jepmh885"
      },
      "source": [
        "Taking partial derivatives for $ \\theta_0 $ and $\\theta_1$, gives us:\n",
        "\n",
        "\n",
        "$$\n",
        "\\frac{\\delta}{\\delta\\theta_0}[ \n",
        "\\theta_0^2 + (\\theta_1x^{(i)})^2 + (y^{(i)})^2 + 2\\theta_0 \\theta_1x^{(i)} - 2\\theta_0 y^{(i)} - 2\\theta_1x^{(i)} y^{(i)}]\n",
        "$$\n",
        "\n",
        "$$\n",
        "= 2\\theta_0 + 2\\theta_1x^{(i)} - 2y^{(i)}\n",
        "$$\n",
        "$$\n",
        "= 2(\\theta_0 + \\theta_1x^{(i)} - y^{(i)}) = 2(h_\\theta x^{(i)} - y^{(i)})\n",
        "$$\n",
        "In other words,\n",
        "$$ \\frac{\\delta}{\\delta\\theta_0} J(\\theta) = \\frac{1}{m}\\sum\\limits_{i=1}^{m}(h_\\theta x^{(i)} - y^{(i)})\n",
        "$$"
      ]
    },
    {
      "cell_type": "markdown",
      "metadata": {
        "id": "ffFX6Y_2mnuH"
      },
      "source": [
        "\n",
        "Similarly, for $ \\theta_1$:\n",
        "$$\n",
        "\\frac{\\delta}{\\delta\\theta_1}[ \n",
        "\\theta_0^2 + (\\theta_1x^{(i)})^2 + (y^{(i)})^2 + 2\\theta_0 \\theta_1x^{(i)} - 2\\theta_0 y^{(i)} - 2\\theta_1x^{(i)} y^{(i)}]\n",
        "$$\n",
        "\n",
        "$$\n",
        "= 2\\theta_1x^{(i)} + 2\\theta_0x^{(i)} - 2x^{(i)}y^{(i)}\n",
        "$$\n",
        "\n",
        "$$\n",
        "= 2(\\theta_0 + \\theta_1x^{(i)} - y^{(i)})x^{(i)} = 2(h_\\theta(x^{(i)}) - y^{(i)})x^{(i)}\n",
        "$$\n",
        "\n",
        "In other words,\n",
        "\n",
        "$$ \\frac{\\delta}{\\delta\\theta_1} J(\\theta) = \\frac{1}{m}\\sum\\limits_{i=1}^{m}(h_\\theta(x^{(i)}) - y^{(i)})x^{(i)} $$\n"
      ]
    },
    {
      "cell_type": "markdown",
      "metadata": {
        "id": "c2cP0wh9pxnM"
      },
      "source": [
        "In summary,\n",
        "\n",
        "$$ \\frac{\\delta}{\\delta\\theta_0} J(\\theta_0, \\theta_1) = \\frac{1}{m}\\sum\\limits_{i=1}^{m}(h_\\theta(x^{(i)}) - y^{(i)}) $$\n",
        "\n",
        "and\n",
        "\n",
        "$$ \\frac{\\delta}{\\delta\\theta_1} J(\\theta_0, \\theta_1) = \\frac{1}{m}\\sum\\limits_{i=1}^{m}(h_\\theta(x^{(i)}) - y^{(i)})x^{(i)} $$"
      ]
    },
    {
      "cell_type": "markdown",
      "metadata": {
        "id": "_MxdeKNoq3Sg"
      },
      "source": [
        "In practice, we add a learning rate $\\alpha$ and update all $\\theta s$ simultaneously. \n",
        "\n",
        "$$ \\theta_j = \\theta_j - \\alpha \\frac{1}{m} \\sum_{i=1}^m \\left( h_\\theta(x^{(i)}) - y^{(i)}\\right)x_j^{(i)} \\qquad \\text{simultaneously update } \\theta_j \\text{ for all } j$$\n",
        "\n",
        "So this is the formula we will use to update the parameters."
      ]
    },
    {
      "cell_type": "code",
      "metadata": {
        "id": "30hC8Y_UXs8C",
        "colab": {
          "base_uri": "https://localhost:8080/"
        },
        "outputId": "fe6b0818-efda-4732-d227-ea78d30a85d1"
      },
      "source": [
        "!git clone https://github.com/changsin/MIU_ML"
      ],
      "execution_count": 119,
      "outputs": [
        {
          "output_type": "stream",
          "name": "stdout",
          "text": [
            "fatal: destination path 'MIU_ML' already exists and is not an empty directory.\n"
          ]
        }
      ]
    },
    {
      "cell_type": "markdown",
      "metadata": {
        "id": "qBVuhik7Btsv"
      },
      "source": [
        "# Sample dataset:\n",
        " [sklearn diabetes](https://scikit-learn.org/stable/datasets/toy_dataset.html)\n",
        "\n",
        "## X column attributes:\n",
        "1. age age in years\n",
        "2. sex\n",
        "3. bmi body mass index\n",
        "4. bp average blood pressure\n",
        "5. s1 tc, total serum cholesterol\n",
        "6. s2 ldl, low-density lipoproteins\n",
        "7. s3 hdl, high-density lipoproteins\n",
        "8. s4 tch, total cholesterol / HDL\n",
        "9. s5 ltg, possibly log of serum triglycerides level\n",
        "10. s6 glu, blood sugar level\n",
        "\n",
        "(mean centered and scaled by the standard deviation times n_samples (i.e. the sum of squares of each column totals 1).\n",
        "\n",
        "## y target value:\n",
        " quantitative measure of disease progression one year after baseline\n"
      ]
    },
    {
      "cell_type": "code",
      "metadata": {
        "id": "dPzcPJsB2op8",
        "colab": {
          "base_uri": "https://localhost:8080/"
        },
        "outputId": "23949af5-c229-4637-9abf-9aac180f28b4"
      },
      "source": [
        "from sklearn import datasets\n",
        "\n",
        "X, y = datasets.load_diabetes(return_X_y=True)\n",
        "X.shape"
      ],
      "execution_count": 8,
      "outputs": [
        {
          "output_type": "execute_result",
          "data": {
            "text/plain": [
              "(442, 10)"
            ]
          },
          "metadata": {},
          "execution_count": 8
        }
      ]
    },
    {
      "cell_type": "code",
      "metadata": {
        "id": "OFxbYrVfzplf"
      },
      "source": [
        "# just use the first 20 items in the dataset\n",
        "PART_SIZE = 20\n",
        "\n",
        "# m = y.size\n",
        "m = PART_SIZE\n",
        "\n",
        "# Add a column of ones to X. The numpy function stack joins arrays along a given axis. \n",
        "# The first axis (axis=0) refers to rows (training examples) \n",
        "# and second axis (axis=1) refers to columns (features).\n",
        "X_part = np.stack([np.ones(m), X[:PART_SIZE, 8]*100], axis=1)\n",
        "y_part = y[:PART_SIZE]"
      ],
      "execution_count": 9,
      "outputs": []
    },
    {
      "cell_type": "code",
      "metadata": {
        "id": "TUpS6TOZ_ToG",
        "colab": {
          "base_uri": "https://localhost:8080/",
          "height": 265
        },
        "outputId": "921e1d44-35f2-4fd8-b6f1-dd7888b8e100"
      },
      "source": [
        "import matplotlib.pyplot as plt\n",
        "\n",
        "def plot_data(X, y, limit=20):\n",
        "  fig, ax = plt.subplots()\n",
        "  ax.plot(X, y, marker='o', linestyle='', ms=12, label='+')\n",
        "\n",
        "  return ax\n",
        "\n",
        "ax = plot_data(X_part[:, 1], y_part)\n",
        "\n",
        "x_line = np.linspace(-10, 10, 100)\n",
        "y_line = 10*x_line + 150\n",
        "\n",
        "# ax.plot(x_line, y_line, 'g', label='y=wx+b')"
      ],
      "execution_count": 10,
      "outputs": [
        {
          "output_type": "display_data",
          "data": {
            "image/png": "[encoded data removed]",
            "text/plain": [
              "<Figure size 432x288 with 1 Axes>"
            ]
          },
          "metadata": {
            "needs_background": "light"
          }
        }
      ]
    },
    {
      "cell_type": "code",
      "metadata": {
        "id": "SBAG0yspMUJJ",
        "outputId": "7a16ead8-3e00-4b53-a9d9-b544a8a84e70",
        "colab": {
          "base_uri": "https://localhost:8080/",
          "height": 282
        }
      },
      "source": [
        "sample_data = np.stack((X_part[:, 1], y_part), axis=1)\n",
        "\n",
        "plot_data(sample_data[:, 0], sample_data[:, 1])"
      ],
      "execution_count": 11,
      "outputs": [
        {
          "output_type": "execute_result",
          "data": {
            "text/plain": [
              "<matplotlib.axes._subplots.AxesSubplot at 0x7fb00c0b9250>"
            ]
          },
          "metadata": {},
          "execution_count": 11
        },
        {
          "output_type": "display_data",
          "data": {
            "image/png": "[encoded data removed]",
            "text/plain": [
              "<Figure size 432x288 with 1 Axes>"
            ]
          },
          "metadata": {
            "needs_background": "light"
          }
        }
      ]
    },
    {
      "cell_type": "code",
      "metadata": {
        "id": "wYQoFL5tJtq2",
        "outputId": "aec01fba-296c-46c1-83a5-b453c0de2384",
        "colab": {
          "base_uri": "https://localhost:8080/",
          "height": 298
        }
      },
      "source": [
        "from sklearn.decomposition import PCA\n",
        "\n",
        "K = 1\n",
        "pca = PCA(n_components=K)\n",
        "\n",
        "sample_data_reduced = pca.fit_transform(sample_data)\n",
        "sample_data_reduced\n",
        "\n",
        "y_constant = np.ones(len(sample_data_reduced))\n",
        "\n",
        "plot_data(sample_data_reduced, y_constant)\n",
        "\n",
        "\n",
        "print(\"variance ratio\", pca.explained_variance_ratio_)\n",
        "print(pca.explained_variance_)"
      ],
      "execution_count": 12,
      "outputs": [
        {
          "output_type": "stream",
          "name": "stdout",
          "text": [
            "variance ratio [0.99753664]\n",
            "[3230.63375048]\n"
          ]
        },
        {
          "output_type": "display_data",
          "data": {
            "image/png": "[encoded data removed]",
            "text/plain": [
              "<Figure size 432x288 with 1 Axes>"
            ]
          },
          "metadata": {
            "needs_background": "light"
          }
        }
      ]
    },
    {
      "cell_type": "code",
      "metadata": {
        "id": "pIrGyRe3Ylq7",
        "outputId": "977ab011-cf99-4e4a-9a76-01fbae240118",
        "colab": {
          "base_uri": "https://localhost:8080/",
          "height": 282
        }
      },
      "source": [
        "import numpy as np\n",
        "\n",
        "X_lin = np.linspace(0, 10, 11)\n",
        "X_lin\n",
        "\n",
        "Y_lin = np.linspace(0, 10, 11)\n",
        "Y_lin\n",
        "Y_lin[5] = 3\n",
        "\n",
        "lin_data = np.stack((X_lin, Y_lin), axis=1)\n",
        "\n",
        "\n",
        "plot_data(X_lin, Y_lin)\n",
        "pca_lin = PCA(n_components=K)\n",
        "\n",
        "lin_reduced = pca_lin.fit_transform(lin_data)\n",
        "lin_reduced\n",
        "\n",
        "print(pca_lin.explained_variance_ratio_, pca_lin.explained_variance_)"
      ],
      "execution_count": 47,
      "outputs": [
        {
          "output_type": "stream",
          "name": "stdout",
          "text": [
            "[0.9919371] [22.18332071]\n"
          ]
        },
        {
          "output_type": "display_data",
          "data": {
            "image/png": "[encoded data removed]",
            "text/plain": [
              "<Figure size 432x288 with 1 Axes>"
            ]
          },
          "metadata": {
            "needs_background": "light"
          }
        }
      ]
    },
    {
      "cell_type": "code",
      "metadata": {
        "id": "FF1Z1IzDasco",
        "outputId": "3335a3c1-0d63-4179-be98-80ff4f16c345",
        "colab": {
          "base_uri": "https://localhost:8080/"
        }
      },
      "source": [
        "from sklearn import preprocessing\n",
        "\n",
        "def cal_variance_ratio(data, projection):\n",
        "  m = data.shape[0]\n",
        "\n",
        "  # total_variation = (sum([x*x for x, x in zip(data, data)])).sum()\n",
        "  total_variation = sum(np.dot(X.T, X)) \n",
        "  total_variation = total_variation/m\n",
        "\n",
        "  delta_sum = (sum([(d - p)*(d - p) for d, p in zip(data, projection)])).sum()\n",
        "  avg_square_proj_error = delta_sum/m\n",
        "\n",
        "  return avg_square_proj_error/total_variation\n",
        "\n",
        "cal_variance_ratio(lin_data, lin_reduced)"
      ],
      "execution_count": 38,
      "outputs": [
        {
          "output_type": "execute_result",
          "data": {
            "text/plain": [
              "array([  637.36776769,   919.85147076,   598.49357853,   561.5790122 ,\n",
              "         444.80908329,   485.03294465, -1177.88510084,   494.39978656,\n",
              "         484.9624002 ,   521.49323633])"
            ]
          },
          "metadata": {},
          "execution_count": 38
        }
      ]
    },
    {
      "cell_type": "code",
      "metadata": {
        "id": "xY43ePQxo5VI",
        "outputId": "92a445bc-fc2d-4a03-ee6f-91eb069d781d",
        "colab": {
          "base_uri": "https://localhost:8080/"
        }
      },
      "source": [
        "mu = np.mean(lin_data[:, 0]), np.mean(lin_data[:, 1])\n",
        "# \n",
        "mu\n",
        "lin_data_norm = np.array([[x - mu[0], y - mu[1]] for x, y in zip(lin_data[:, 0], lin_data[:, 1])])\n",
        "\n",
        "cal_variance_ratio(lin_data_norm, lin_reduced)"
      ],
      "execution_count": 37,
      "outputs": [
        {
          "output_type": "execute_result",
          "data": {
            "text/plain": [
              "5.828427124746191"
            ]
          },
          "metadata": {},
          "execution_count": 37
        }
      ]
    },
    {
      "cell_type": "code",
      "metadata": {
        "id": "DVl4lJgwrIQ6",
        "outputId": "3ea03824-7032-484d-a1e9-f255867c38df",
        "colab": {
          "base_uri": "https://localhost:8080/"
        }
      },
      "source": [
        "np.matmul(lin_data.T, lin_data)/len(lin_data)"
      ],
      "execution_count": 44,
      "outputs": [
        {
          "output_type": "execute_result",
          "data": {
            "text/plain": [
              "array([[35., 35.],\n",
              "       [35., 35.]])"
            ]
          },
          "metadata": {},
          "execution_count": 44
        }
      ]
    },
    {
      "cell_type": "code",
      "metadata": {
        "id": "MpEGBHcBrlqW"
      },
      "source": [
        ""
      ],
      "execution_count": null,
      "outputs": []
    },
    {
      "cell_type": "code",
      "metadata": {
        "id": "9oHp-7OwqgnC",
        "outputId": "2979a856-fa58-4a71-f0a3-96b698494e88",
        "colab": {
          "base_uri": "https://localhost:8080/"
        }
      },
      "source": [
        "lin_data"
      ],
      "execution_count": 33,
      "outputs": [
        {
          "output_type": "execute_result",
          "data": {
            "text/plain": [
              "array([[ 0.,  0.],\n",
              "       [ 1.,  1.],\n",
              "       [ 2.,  2.],\n",
              "       [ 3.,  3.],\n",
              "       [ 4.,  4.],\n",
              "       [ 5.,  5.],\n",
              "       [ 6.,  6.],\n",
              "       [ 7.,  7.],\n",
              "       [ 8.,  8.],\n",
              "       [ 9.,  9.],\n",
              "       [10., 10.]])"
            ]
          },
          "metadata": {},
          "execution_count": 33
        }
      ]
    },
    {
      "cell_type": "code",
      "metadata": {
        "id": "mmSIcSeytsbx",
        "outputId": "2cfea057-f20e-47a1-bb68-864e5bdfff24",
        "colab": {
          "base_uri": "https://localhost:8080/"
        }
      },
      "source": [
        "sum([(d - p)*(d - p) for d, p in zip(lin_data, lin_reduced)]).sum()"
      ],
      "execution_count": 137,
      "outputs": [
        {
          "output_type": "execute_result",
          "data": {
            "text/plain": [
              "1832.253967444162"
            ]
          },
          "metadata": {},
          "execution_count": 137
        }
      ]
    },
    {
      "cell_type": "code",
      "metadata": {
        "id": "ILJxSjzFuVi2"
      },
      "source": [
        "sum([d*d for d, p in zip(lin_data, lin_reduced)]).sum()"
      ],
      "execution_count": null,
      "outputs": []
    },
    {
      "cell_type": "code",
      "metadata": {
        "id": "wxA4rIgaIE4a",
        "outputId": "ac054d6b-89e5-4574-e6b1-10ae4bee67fa",
        "colab": {
          "base_uri": "https://localhost:8080/"
        }
      },
      "source": [
        "from sklearn.preprocessing import normalize\n",
        "normalize(lin_data)"
      ],
      "execution_count": 139,
      "outputs": [
        {
          "output_type": "execute_result",
          "data": {
            "text/plain": [
              "array([[0.        , 0.        ],\n",
              "       [0.70710678, 0.70710678],\n",
              "       [0.70710678, 0.70710678],\n",
              "       [0.70710678, 0.70710678],\n",
              "       [0.70710678, 0.70710678],\n",
              "       [0.70710678, 0.70710678],\n",
              "       [0.70710678, 0.70710678],\n",
              "       [0.70710678, 0.70710678],\n",
              "       [0.70710678, 0.70710678],\n",
              "       [0.70710678, 0.70710678],\n",
              "       [0.70710678, 0.70710678]])"
            ]
          },
          "metadata": {},
          "execution_count": 139
        }
      ]
    },
    {
      "cell_type": "code",
      "metadata": {
        "id": "puhrl2FwI5oR",
        "outputId": "f0e4fd0d-8688-4dfc-bbd0-1503b720e53e",
        "colab": {
          "base_uri": "https://localhost:8080/"
        }
      },
      "source": [
        "lin_data"
      ],
      "execution_count": 140,
      "outputs": [
        {
          "output_type": "execute_result",
          "data": {
            "text/plain": [
              "array([[ 0.,  0.],\n",
              "       [ 1.,  1.],\n",
              "       [ 2.,  2.],\n",
              "       [ 3.,  3.],\n",
              "       [ 4.,  4.],\n",
              "       [ 5.,  5.],\n",
              "       [ 6.,  6.],\n",
              "       [ 7.,  7.],\n",
              "       [ 8.,  8.],\n",
              "       [ 9.,  9.],\n",
              "       [10., 10.]])"
            ]
          },
          "metadata": {},
          "execution_count": 140
        }
      ]
    },
    {
      "cell_type": "code",
      "metadata": {
        "id": "Lw0pNOI7tboX",
        "outputId": "de3027c2-400f-4437-ec5c-ae0ea3c73227",
        "colab": {
          "base_uri": "https://localhost:8080/"
        }
      },
      "source": [
        "lin_reduced"
      ],
      "execution_count": 130,
      "outputs": [
        {
          "output_type": "execute_result",
          "data": {
            "text/plain": [
              "array([[ 7.07106781],\n",
              "       [ 5.65685425],\n",
              "       [ 4.24264069],\n",
              "       [ 2.82842712],\n",
              "       [ 1.41421356],\n",
              "       [-0.        ],\n",
              "       [-1.41421356],\n",
              "       [-2.82842712],\n",
              "       [-4.24264069],\n",
              "       [-5.65685425],\n",
              "       [-7.07106781]])"
            ]
          },
          "metadata": {},
          "execution_count": 130
        }
      ]
    },
    {
      "cell_type": "code",
      "metadata": {
        "id": "DK0vXCQdAMxA"
      },
      "source": [
        "def dot_product(a_vector,b_vector):\n",
        "    #a1 x b1 + a2 * b2..an*bn return scalar\n",
        "    return sum([an*bn for an,bn in zip(a_vector,b_vector)])"
      ],
      "execution_count": 113,
      "outputs": []
    },
    {
      "cell_type": "code",
      "metadata": {
        "id": "5pAgf6K-_Yqs",
        "outputId": "90c4cff0-4262-488f-f645-5f88a9f2e26e",
        "colab": {
          "base_uri": "https://localhost:8080/"
        }
      },
      "source": [
        "np.dot(lin_data.T, lin_data)\n",
        "\n",
        "t1 = np.array([[1, 1], [2, 2]])\n",
        "t2 = np.array([[1, 1, 1], [2, 2, 2], [3, 3, 3]])\n",
        "\n",
        "print(np.dot(t1, t1))\n",
        "print(t1 @ t1)\n",
        "\n",
        "t1 * t1.T"
      ],
      "execution_count": 112,
      "outputs": [
        {
          "output_type": "stream",
          "name": "stdout",
          "text": [
            "[[3 3]\n",
            " [6 6]]\n",
            "[[3 3]\n",
            " [6 6]]\n"
          ]
        },
        {
          "output_type": "execute_result",
          "data": {
            "text/plain": [
              "array([[1, 2],\n",
              "       [2, 4]])"
            ]
          },
          "metadata": {},
          "execution_count": 112
        }
      ]
    },
    {
      "cell_type": "code",
      "metadata": {
        "id": "JLTGjA-sCjLf",
        "outputId": "e54ebdbc-1df0-4fb2-f0c9-0cce44ef1577",
        "colab": {
          "base_uri": "https://localhost:8080/"
        }
      },
      "source": [
        "# print(dot_product(t2, t2))\n",
        "# t2.shape\n",
        "\n",
        "np.array([1, 1]).sum()"
      ],
      "execution_count": 117,
      "outputs": [
        {
          "output_type": "execute_result",
          "data": {
            "text/plain": [
              "2"
            ]
          },
          "metadata": {},
          "execution_count": 117
        }
      ]
    },
    {
      "cell_type": "code",
      "metadata": {
        "id": "CLDyDtw1dNP0",
        "outputId": "1fc27562-0a8b-4032-fa28-4c2154a1eff7",
        "colab": {
          "base_uri": "https://localhost:8080/"
        }
      },
      "source": [
        "lin_data.shape"
      ],
      "execution_count": 92,
      "outputs": [
        {
          "output_type": "execute_result",
          "data": {
            "text/plain": [
              "(11, 2)"
            ]
          },
          "metadata": {},
          "execution_count": 92
        }
      ]
    },
    {
      "cell_type": "code",
      "metadata": {
        "id": "ClMQmc7VUps9"
      },
      "source": [
        "np.random.seed(4)\n",
        "m = 60\n",
        "w1, w2 = 0.1, 0.3\n",
        "noise = 0.1\n",
        "\n",
        "angles = np.random.rand(m) * 3 * np.pi / 2 - 0.5\n",
        "X = np.empty((m, 3))\n",
        "X[:, 0] = np.cos(angles) + np.sin(angles)/2 + noise * np.random.randn(m) / 2\n",
        "X[:, 1] = np.sin(angles) * 0.7 + noise * np.random.randn(m) / 2\n",
        "X[:, 2] = X[:, 0] * w1 + X[:, 1] * w2 + noise * np.random.randn(m)\n",
        "\n"
      ],
      "execution_count": 64,
      "outputs": []
    },
    {
      "cell_type": "code",
      "metadata": {
        "id": "8E0EmmyPUqRm",
        "outputId": "0d7807c4-4854-4b83-9c04-5881d2b133a5",
        "colab": {
          "base_uri": "https://localhost:8080/"
        }
      },
      "source": [
        "X_cen = X - X.mean(axis=0)  # 평균을 0으로\n",
        "X_cov = np.dot(X_cen.T, X_cen) / 59\n",
        "print(X_cov)\n",
        "\n",
        "w, v = np.linalg.eig(X_cov)\n",
        "print('eigenvalue :', w)\n",
        "print('eigenvector :\\n', v)\n",
        "\n",
        "print('explained variance ratio :', w / w.sum())"
      ],
      "execution_count": 68,
      "outputs": [
        {
          "output_type": "stream",
          "name": "stdout",
          "text": [
            "[[0.69812855 0.17640539 0.12137931]\n",
            " [0.17640539 0.1801727  0.07253614]\n",
            " [0.12137931 0.07253614 0.04552382]]\n",
            "eigenvalue : [0.77830975 0.1351726  0.01034272]\n",
            "eigenvector :\n",
            " [[ 0.93636116  0.34027485 -0.08626012]\n",
            " [ 0.29854881 -0.90119108 -0.31420255]\n",
            " [ 0.18465208 -0.2684542   0.94542898]]\n",
            "explained variance ratio : [0.84248607 0.14631839 0.01119554]\n"
          ]
        }
      ]
    },
    {
      "cell_type": "code",
      "metadata": {
        "id": "i9FOFPBAT08Z"
      },
      "source": [
        "sca"
      ],
      "execution_count": null,
      "outputs": []
    },
    {
      "cell_type": "code",
      "metadata": {
        "id": "5OqFXCeLO6G8",
        "outputId": "857eeb49-1b46-4f74-b31a-b0ca0ea30bdb",
        "colab": {
          "base_uri": "https://localhost:8080/",
          "height": 247
        }
      },
      "source": [
        "\n",
        "import numpy as np\n",
        "import matplotlib.pyplot as plt\n",
        "from mpl_toolkits.mplot3d import Axes3D\n",
        "\n",
        "\n",
        "from sklearn import decomposition\n",
        "from sklearn import datasets\n",
        "\n",
        "np.random.seed(5)\n",
        "\n",
        "iris = datasets.load_iris()\n",
        "X = iris.data\n",
        "y = iris.target\n",
        "\n",
        "fig = plt.figure(1, figsize=(4, 3))\n",
        "plt.clf()\n",
        "ax = Axes3D(fig, rect=[0, 0, .95, 1], elev=48, azim=134)\n",
        "\n",
        "plt.cla()\n",
        "pca = decomposition.PCA(n_components=3)\n",
        "pca.fit(X)\n",
        "X_reduced = pca.transform(X)\n",
        "\n",
        "for name, label in [('Setosa', 0), ('Versicolour', 1), ('Virginica', 2)]:\n",
        "    ax.text3D(X_reduced[y == label, 0].mean(),\n",
        "              X_reduced[y == label, 1].mean() + 1.5,\n",
        "              X_reduced[y == label, 2].mean(), name,\n",
        "              horizontalalignment='center',\n",
        "              bbox=dict(alpha=.5, edgecolor='w', facecolor='w'))\n",
        "# Reorder the labels to have colors matching the cluster results\n",
        "y = np.choose(y, [1, 2, 0]).astype(float)\n",
        "ax.scatter(X_reduced[:, 0], X_reduced[:, 1], X_reduced[:, 2], c=y, cmap=plt.cm.nipy_spectral,\n",
        "           edgecolor='k')\n",
        "\n",
        "ax.w_xaxis.set_ticklabels([])\n",
        "ax.w_yaxis.set_ticklabels([])\n",
        "ax.w_zaxis.set_ticklabels([])\n",
        "\n",
        "plt.show()"
      ],
      "execution_count": 41,
      "outputs": [
        {
          "output_type": "display_data",
          "data": {
            "image/png": "[encoded data removed]",
            "text/plain": [
              "<Figure size 288x216 with 1 Axes>"
            ]
          },
          "metadata": {
            "needs_background": "light"
          }
        }
      ]
    },
    {
      "cell_type": "code",
      "metadata": {
        "id": "iDsDi91uPRuO",
        "outputId": "3c2d1b8a-3392-423a-abdc-a202011fe100",
        "colab": {
          "base_uri": "https://localhost:8080/"
        }
      },
      "source": [
        "X"
      ],
      "execution_count": 46,
      "outputs": [
        {
          "output_type": "execute_result",
          "data": {
            "text/plain": [
              "array([[5.1, 3.5, 1.4, 0.2],\n",
              "       [4.9, 3. , 1.4, 0.2],\n",
              "       [4.7, 3.2, 1.3, 0.2],\n",
              "       [4.6, 3.1, 1.5, 0.2],\n",
              "       [5. , 3.6, 1.4, 0.2],\n",
              "       [5.4, 3.9, 1.7, 0.4],\n",
              "       [4.6, 3.4, 1.4, 0.3],\n",
              "       [5. , 3.4, 1.5, 0.2],\n",
              "       [4.4, 2.9, 1.4, 0.2],\n",
              "       [4.9, 3.1, 1.5, 0.1],\n",
              "       [5.4, 3.7, 1.5, 0.2],\n",
              "       [4.8, 3.4, 1.6, 0.2],\n",
              "       [4.8, 3. , 1.4, 0.1],\n",
              "       [4.3, 3. , 1.1, 0.1],\n",
              "       [5.8, 4. , 1.2, 0.2],\n",
              "       [5.7, 4.4, 1.5, 0.4],\n",
              "       [5.4, 3.9, 1.3, 0.4],\n",
              "       [5.1, 3.5, 1.4, 0.3],\n",
              "       [5.7, 3.8, 1.7, 0.3],\n",
              "       [5.1, 3.8, 1.5, 0.3],\n",
              "       [5.4, 3.4, 1.7, 0.2],\n",
              "       [5.1, 3.7, 1.5, 0.4],\n",
              "       [4.6, 3.6, 1. , 0.2],\n",
              "       [5.1, 3.3, 1.7, 0.5],\n",
              "       [4.8, 3.4, 1.9, 0.2],\n",
              "       [5. , 3. , 1.6, 0.2],\n",
              "       [5. , 3.4, 1.6, 0.4],\n",
              "       [5.2, 3.5, 1.5, 0.2],\n",
              "       [5.2, 3.4, 1.4, 0.2],\n",
              "       [4.7, 3.2, 1.6, 0.2],\n",
              "       [4.8, 3.1, 1.6, 0.2],\n",
              "       [5.4, 3.4, 1.5, 0.4],\n",
              "       [5.2, 4.1, 1.5, 0.1],\n",
              "       [5.5, 4.2, 1.4, 0.2],\n",
              "       [4.9, 3.1, 1.5, 0.2],\n",
              "       [5. , 3.2, 1.2, 0.2],\n",
              "       [5.5, 3.5, 1.3, 0.2],\n",
              "       [4.9, 3.6, 1.4, 0.1],\n",
              "       [4.4, 3. , 1.3, 0.2],\n",
              "       [5.1, 3.4, 1.5, 0.2],\n",
              "       [5. , 3.5, 1.3, 0.3],\n",
              "       [4.5, 2.3, 1.3, 0.3],\n",
              "       [4.4, 3.2, 1.3, 0.2],\n",
              "       [5. , 3.5, 1.6, 0.6],\n",
              "       [5.1, 3.8, 1.9, 0.4],\n",
              "       [4.8, 3. , 1.4, 0.3],\n",
              "       [5.1, 3.8, 1.6, 0.2],\n",
              "       [4.6, 3.2, 1.4, 0.2],\n",
              "       [5.3, 3.7, 1.5, 0.2],\n",
              "       [5. , 3.3, 1.4, 0.2],\n",
              "       [7. , 3.2, 4.7, 1.4],\n",
              "       [6.4, 3.2, 4.5, 1.5],\n",
              "       [6.9, 3.1, 4.9, 1.5],\n",
              "       [5.5, 2.3, 4. , 1.3],\n",
              "       [6.5, 2.8, 4.6, 1.5],\n",
              "       [5.7, 2.8, 4.5, 1.3],\n",
              "       [6.3, 3.3, 4.7, 1.6],\n",
              "       [4.9, 2.4, 3.3, 1. ],\n",
              "       [6.6, 2.9, 4.6, 1.3],\n",
              "       [5.2, 2.7, 3.9, 1.4],\n",
              "       [5. , 2. , 3.5, 1. ],\n",
              "       [5.9, 3. , 4.2, 1.5],\n",
              "       [6. , 2.2, 4. , 1. ],\n",
              "       [6.1, 2.9, 4.7, 1.4],\n",
              "       [5.6, 2.9, 3.6, 1.3],\n",
              "       [6.7, 3.1, 4.4, 1.4],\n",
              "       [5.6, 3. , 4.5, 1.5],\n",
              "       [5.8, 2.7, 4.1, 1. ],\n",
              "       [6.2, 2.2, 4.5, 1.5],\n",
              "       [5.6, 2.5, 3.9, 1.1],\n",
              "       [5.9, 3.2, 4.8, 1.8],\n",
              "       [6.1, 2.8, 4. , 1.3],\n",
              "       [6.3, 2.5, 4.9, 1.5],\n",
              "       [6.1, 2.8, 4.7, 1.2],\n",
              "       [6.4, 2.9, 4.3, 1.3],\n",
              "       [6.6, 3. , 4.4, 1.4],\n",
              "       [6.8, 2.8, 4.8, 1.4],\n",
              "       [6.7, 3. , 5. , 1.7],\n",
              "       [6. , 2.9, 4.5, 1.5],\n",
              "       [5.7, 2.6, 3.5, 1. ],\n",
              "       [5.5, 2.4, 3.8, 1.1],\n",
              "       [5.5, 2.4, 3.7, 1. ],\n",
              "       [5.8, 2.7, 3.9, 1.2],\n",
              "       [6. , 2.7, 5.1, 1.6],\n",
              "       [5.4, 3. , 4.5, 1.5],\n",
              "       [6. , 3.4, 4.5, 1.6],\n",
              "       [6.7, 3.1, 4.7, 1.5],\n",
              "       [6.3, 2.3, 4.4, 1.3],\n",
              "       [5.6, 3. , 4.1, 1.3],\n",
              "       [5.5, 2.5, 4. , 1.3],\n",
              "       [5.5, 2.6, 4.4, 1.2],\n",
              "       [6.1, 3. , 4.6, 1.4],\n",
              "       [5.8, 2.6, 4. , 1.2],\n",
              "       [5. , 2.3, 3.3, 1. ],\n",
              "       [5.6, 2.7, 4.2, 1.3],\n",
              "       [5.7, 3. , 4.2, 1.2],\n",
              "       [5.7, 2.9, 4.2, 1.3],\n",
              "       [6.2, 2.9, 4.3, 1.3],\n",
              "       [5.1, 2.5, 3. , 1.1],\n",
              "       [5.7, 2.8, 4.1, 1.3],\n",
              "       [6.3, 3.3, 6. , 2.5],\n",
              "       [5.8, 2.7, 5.1, 1.9],\n",
              "       [7.1, 3. , 5.9, 2.1],\n",
              "       [6.3, 2.9, 5.6, 1.8],\n",
              "       [6.5, 3. , 5.8, 2.2],\n",
              "       [7.6, 3. , 6.6, 2.1],\n",
              "       [4.9, 2.5, 4.5, 1.7],\n",
              "       [7.3, 2.9, 6.3, 1.8],\n",
              "       [6.7, 2.5, 5.8, 1.8],\n",
              "       [7.2, 3.6, 6.1, 2.5],\n",
              "       [6.5, 3.2, 5.1, 2. ],\n",
              "       [6.4, 2.7, 5.3, 1.9],\n",
              "       [6.8, 3. , 5.5, 2.1],\n",
              "       [5.7, 2.5, 5. , 2. ],\n",
              "       [5.8, 2.8, 5.1, 2.4],\n",
              "       [6.4, 3.2, 5.3, 2.3],\n",
              "       [6.5, 3. , 5.5, 1.8],\n",
              "       [7.7, 3.8, 6.7, 2.2],\n",
              "       [7.7, 2.6, 6.9, 2.3],\n",
              "       [6. , 2.2, 5. , 1.5],\n",
              "       [6.9, 3.2, 5.7, 2.3],\n",
              "       [5.6, 2.8, 4.9, 2. ],\n",
              "       [7.7, 2.8, 6.7, 2. ],\n",
              "       [6.3, 2.7, 4.9, 1.8],\n",
              "       [6.7, 3.3, 5.7, 2.1],\n",
              "       [7.2, 3.2, 6. , 1.8],\n",
              "       [6.2, 2.8, 4.8, 1.8],\n",
              "       [6.1, 3. , 4.9, 1.8],\n",
              "       [6.4, 2.8, 5.6, 2.1],\n",
              "       [7.2, 3. , 5.8, 1.6],\n",
              "       [7.4, 2.8, 6.1, 1.9],\n",
              "       [7.9, 3.8, 6.4, 2. ],\n",
              "       [6.4, 2.8, 5.6, 2.2],\n",
              "       [6.3, 2.8, 5.1, 1.5],\n",
              "       [6.1, 2.6, 5.6, 1.4],\n",
              "       [7.7, 3. , 6.1, 2.3],\n",
              "       [6.3, 3.4, 5.6, 2.4],\n",
              "       [6.4, 3.1, 5.5, 1.8],\n",
              "       [6. , 3. , 4.8, 1.8],\n",
              "       [6.9, 3.1, 5.4, 2.1],\n",
              "       [6.7, 3.1, 5.6, 2.4],\n",
              "       [6.9, 3.1, 5.1, 2.3],\n",
              "       [5.8, 2.7, 5.1, 1.9],\n",
              "       [6.8, 3.2, 5.9, 2.3],\n",
              "       [6.7, 3.3, 5.7, 2.5],\n",
              "       [6.7, 3. , 5.2, 2.3],\n",
              "       [6.3, 2.5, 5. , 1.9],\n",
              "       [6.5, 3. , 5.2, 2. ],\n",
              "       [6.2, 3.4, 5.4, 2.3],\n",
              "       [5.9, 3. , 5.1, 1.8]])"
            ]
          },
          "metadata": {},
          "execution_count": 46
        }
      ]
    },
    {
      "cell_type": "code",
      "metadata": {
        "id": "QvgILd3dPTvJ",
        "outputId": "2a783c08-2a8c-4f1a-ab18-bb9f41495045",
        "colab": {
          "base_uri": "https://localhost:8080/"
        }
      },
      "source": [
        "X_reduced.shape"
      ],
      "execution_count": 43,
      "outputs": [
        {
          "output_type": "execute_result",
          "data": {
            "text/plain": [
              "(150, 3)"
            ]
          },
          "metadata": {},
          "execution_count": 43
        }
      ]
    },
    {
      "cell_type": "code",
      "metadata": {
        "id": "U_iDd3TaCWpz"
      },
      "source": [
        "def computeCost(X, y, theta):\n",
        "    \"\"\"\n",
        "    Compute cost for linear regression. Computes the cost of using theta as the\n",
        "    parameter for linear regression to fit the data points in X and y.\n",
        "    \n",
        "    Parameters\n",
        "    ----------\n",
        "    X : array_like\n",
        "        The input dataset of shape (m x n+1), where m is the number of examples,\n",
        "        and n is the number of features. We assume a vector of one's already \n",
        "        appended to the features so we have n+1 columns.\n",
        "    \n",
        "    y : array_like\n",
        "        The values of the function at each data point. This is a vector of\n",
        "        shape (m, ).\n",
        "    \n",
        "    theta : array_like\n",
        "        The parameters for the regression function. This is a vector of \n",
        "        shape (n+1, ).\n",
        "    \n",
        "    Returns\n",
        "    -------\n",
        "    J : float\n",
        "        The value of the regression cost function.\n",
        "    \n",
        "    Instructions\n",
        "    ------------\n",
        "    Compute the cost of a particular choice of theta. \n",
        "    You should set J to the cost.\n",
        "    \"\"\"\n",
        "    \n",
        "    # initialize some useful values\n",
        "    m = y.size  # number of training examples\n",
        "    \n",
        "    # You need to return the following variables correctly\n",
        "    J = 0\n",
        "    \n",
        "    # ====================== YOUR CODE HERE =====================\n",
        "\n",
        "    # TODO:\n",
        "\n",
        "    # ===========================================================\n",
        "    return J"
      ],
      "execution_count": 39,
      "outputs": []
    },
    {
      "cell_type": "code",
      "metadata": {
        "id": "ouXbIKgcy_Gg",
        "colab": {
          "base_uri": "https://localhost:8080/"
        },
        "outputId": "bddcc5e4-4a21-4286-c5e4-b42eac9ce4c3"
      },
      "source": [
        "theta=np.array([0.0, 0.0])\n",
        "J = computeCost(X_part, y_part, theta=theta)\n",
        "print('With theta = [0, 0] \\nCost computed = %.2f' % J)\n",
        "print('Expected cost value (approximately) 11497.70\\n')"
      ],
      "execution_count": 11,
      "outputs": [
        {
          "output_type": "stream",
          "name": "stdout",
          "text": [
            "With theta = [0, 0] \n",
            "Cost computed = 0.00\n",
            "Expected cost value (approximately) 11497.70\n",
            "\n"
          ]
        }
      ]
    },
    {
      "cell_type": "code",
      "metadata": {
        "id": "ucRtwKlZzN5j"
      },
      "source": [
        "def gradientDescent(X, y, theta, alpha, num_iters):\n",
        "    \"\"\"\n",
        "    Performs gradient descent to learn `theta`. Updates theta by taking `num_iters`\n",
        "    gradient steps with learning rate `alpha`.\n",
        "    \n",
        "    Parameters\n",
        "    ----------\n",
        "    X : array_like\n",
        "        The input dataset of shape (m x n+1).\n",
        "    \n",
        "    y : array_like\n",
        "        Value at given features. A vector of shape (m, ).\n",
        "    \n",
        "    theta : array_like\n",
        "        Initial values for the linear regression parameters. \n",
        "        A vector of shape (n+1, ).\n",
        "    \n",
        "    alpha : float\n",
        "        The learning rate.\n",
        "    \n",
        "    num_iters : int\n",
        "        The number of iterations for gradient descent. \n",
        "    \n",
        "    Returns\n",
        "    -------\n",
        "    theta : array_like\n",
        "        The learned linear regression parameters. A vector of shape (n+1, ).\n",
        "    \n",
        "    J_history : list\n",
        "        A python list for the values of the cost function after each iteration.\n",
        "    \n",
        "    Instructions\n",
        "    ------------\n",
        "    Peform a single gradient step on the parameter vector theta.\n",
        "\n",
        "    While debugging, it can be useful to print out the values of \n",
        "    the cost function (computeCost) and gradient here.\n",
        "    \"\"\"\n",
        "    # Initialize some useful values\n",
        "    m = y.shape[0]  # number of training examples\n",
        "    \n",
        "    # make a copy of theta, to avoid changing the original array, since numpy arrays\n",
        "    # are passed by reference to functions\n",
        "    theta = theta.copy()\n",
        "    \n",
        "    J_history = [] # Use a python list to save cost in every iteration\n",
        "    \n",
        "    for i in range(num_iters):\n",
        "        theta_zero, theta_one = theta\n",
        "        # ==================== YOUR CODE HERE =================================\n",
        "        \n",
        "        # TODO\n",
        "\n",
        "        # =====================================================================\n",
        "        \n",
        "        # save the cost J in every iteration\n",
        "        J_history.append([J, theta_zero, theta_one])\n",
        "    \n",
        "    return theta, J_history"
      ],
      "execution_count": 12,
      "outputs": []
    },
    {
      "cell_type": "code",
      "metadata": {
        "colab": {
          "base_uri": "https://localhost:8080/"
        },
        "id": "iXLqD561yD7g",
        "outputId": "bc148d0e-6991-458b-ed6a-2e4161883797"
      },
      "source": [
        "# initialize fitting parameters\n",
        "theta = np.zeros(2)\n",
        "\n",
        "# some gradient descent settings\n",
        "iterations = 300\n",
        "alpha = 0.01\n",
        "\n",
        "theta, J_history = gradientDescent(X_part, y_part, theta, alpha, iterations)\n",
        "print('Theta found by gradient descent: {:.4f}, {:.4f}'.format(*theta))"
      ],
      "execution_count": 13,
      "outputs": [
        {
          "output_type": "stream",
          "name": "stdout",
          "text": [
            "Theta found by gradient descent: 0.0000, 0.0000\n"
          ]
        }
      ]
    },
    {
      "cell_type": "code",
      "metadata": {
        "colab": {
          "base_uri": "https://localhost:8080/",
          "height": 282
        },
        "id": "JXdCaIjmyFCH",
        "outputId": "fa372fb4-f250-4850-dcab-39947ae9346f"
      },
      "source": [
        "ax = plot_data(X_part[:, 1], y_part)\n",
        "\n",
        "x_line = np.linspace(-10, 10, 100)\n",
        "y_line = theta[1]*x_line + theta[0]\n",
        "\n",
        "ax.plot(x_line, y_line, 'g', label='y=wx+b')"
      ],
      "execution_count": 14,
      "outputs": [
        {
          "output_type": "execute_result",
          "data": {
            "text/plain": [
              "[<matplotlib.lines.Line2D at 0x7f86c2585090>]"
            ]
          },
          "metadata": {},
          "execution_count": 14
        },
        {
          "output_type": "display_data",
          "data": {
            "image/png": "[encoded data removed]",
            "text/plain": [
              "<Figure size 432x288 with 1 Axes>"
            ]
          },
          "metadata": {
            "needs_background": "light"
          }
        }
      ]
    },
    {
      "cell_type": "code",
      "metadata": {
        "id": "QBrwhum53CKB"
      },
      "source": [
        "J_history = np.array(J_history)"
      ],
      "execution_count": 15,
      "outputs": []
    },
    {
      "cell_type": "code",
      "metadata": {
        "colab": {
          "base_uri": "https://localhost:8080/",
          "height": 265
        },
        "id": "I9JXaYKj0tLS",
        "outputId": "dde3b6b0-3a82-4924-d0ff-be5ab44e6ece"
      },
      "source": [
        "ax1 = plot_data(range(len(J_history)), J_history[:, 0])"
      ],
      "execution_count": 16,
      "outputs": [
        {
          "output_type": "display_data",
          "data": {
            "image/png": "[encoded data removed]",
            "text/plain": [
              "<Figure size 432x288 with 1 Axes>"
            ]
          },
          "metadata": {
            "needs_background": "light"
          }
        }
      ]
    },
    {
      "cell_type": "code",
      "metadata": {
        "colab": {
          "base_uri": "https://localhost:8080/",
          "height": 282
        },
        "id": "uzcYYuUa3XH_",
        "outputId": "eb84a235-0441-4549-ee82-0c6785e3a500"
      },
      "source": [
        "ax1 = plot_data(range(len(J_history)), J_history[:, 1])\n",
        "\n",
        "ax1.plot(range(len(J_history)), J_history[:, 2], 'g', label='y=wx+b')"
      ],
      "execution_count": null,
      "outputs": [
        {
          "output_type": "execute_result",
          "data": {
            "text/plain": [
              "[<matplotlib.lines.Line2D at 0x7f04b1eacc10>]"
            ]
          },
          "metadata": {},
          "execution_count": 253
        },
        {
          "output_type": "display_data",
          "data": {
            "image/png": "[encoded data removed]",
            "text/plain": [
              "<Figure size 432x288 with 1 Axes>"
            ]
          },
          "metadata": {
            "needs_background": "light"
          }
        }
      ]
    },
    {
      "cell_type": "code",
      "metadata": {
        "colab": {
          "base_uri": "https://localhost:8080/",
          "height": 265
        },
        "id": "8fO_6N4f4AW5",
        "outputId": "691ae1c2-7aad-43c4-8d73-72a982bbb5a9"
      },
      "source": [
        "ax1 = plot_data(range(len(J_history)), J_history[:, 2])"
      ],
      "execution_count": null,
      "outputs": [
        {
          "output_type": "display_data",
          "data": {
            "image/png": "[encoded data removed]",
            "text/plain": [
              "<Figure size 432x288 with 1 Axes>"
            ]
          },
          "metadata": {
            "needs_background": "light"
          }
        }
      ]
    }
  ]
}