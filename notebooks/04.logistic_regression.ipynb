{
  "nbformat": 4,
  "nbformat_minor": 0,
  "metadata": {
    "colab": {
      "name": "04.logistic_regression.ipynb",
      "provenance": [],
      "toc_visible": true,
      "authorship_tag": "ABX9TyM8+OEdYSiOPGyMVxlawwKn",
      "include_colab_link": true
    },
    "kernelspec": {
      "name": "python3",
      "display_name": "Python 3"
    },
    "language_info": {
      "name": "python"
    }
  },
  "cells": [
    {
      "cell_type": "markdown",
      "metadata": {
        "id": "view-in-github",
        "colab_type": "text"
      },
      "source": [
        "<a href=\"https://colab.research.google.com/github/changsin/MIU_ML/blob/main/notebooks/04.logistic_regression.ipynb\" target=\"_parent\"><img src=\"https://colab.research.google.com/assets/colab-badge.svg\" alt=\"Open In Colab\"/></a>"
      ]
    },
    {
      "cell_type": "markdown",
      "metadata": {
        "id": "ZGXC7yKOxbBY"
      },
      "source": [
        "# Logistic regression\n",
        "Logistic regression is a parametric method to classify data. In binary logistic regression, data are divided into two categories based on a logistic regression function.\n",
        "\n",
        "\n",
        "\n"
      ]
    },
    {
      "cell_type": "markdown",
      "metadata": {
        "id": "_h8R9rdvoHsP"
      },
      "source": [
        "## Model\n",
        "The general form of the model is:\n",
        "\n",
        "$$ h_\\theta(x) = g(\\theta^Tx) $$\n",
        "\n",
        "- h: hypothesis\n",
        "- $\\theta$: parameters\n",
        "- g: logistic function\n",
        "\n",
        "\n",
        "For logistic function, sigmoid function is often used because it gives the values between 0 and 1 for all possible values. If you set a threshold value between 0 and 1, you can achieve binary classification. The method is very similar to linear regression and this is why it is called \"logistic regression.\"\n",
        "\n",
        "$$ g(z) = \\frac{1}{1+e^{-z}} $$\n",
        "\n",
        "- g: logistic regression function\n",
        "- z: $\\theta^Tx$\n",
        "- e: Euler number\n",
        "\n",
        "Using the sigmoid as the logistic regression, we can set 0.5 as the threshold value and predict the y value. For instance, $ \\hat y = 1$ if $ h(x) \\ge 0.5 $ and $ \\hat y = 0$ if $ h(x) < 0.5 $\n"
      ]
    },
    {
      "cell_type": "code",
      "metadata": {
        "colab": {
          "base_uri": "https://localhost:8080/",
          "height": 227
        },
        "id": "7HCOtYN5p3lm",
        "outputId": "13949dc1-5995-4b5b-827c-e5d157f39d28"
      },
      "source": [
        "import math\n",
        "import numpy as np\n",
        "import matplotlib.pyplot as plt\n",
        "\n",
        "def sigmoid(z):\n",
        "  # TODO: to implement\n",
        "  pass\n",
        "\n",
        "def plot_centered_graph(x, y, pos, label):\n",
        "  fig = plt.figure(figsize=(30,20))\n",
        "  ax = fig.add_subplot(5, 5, pos)\n",
        "  ax.plot(x, y, label=label)\n",
        "  ax.spines['left'].set_position('center')\n",
        "  ax.spines['bottom'].set_position(('data', 0))\n",
        "  ax.spines['right'].set_color('none')\n",
        "  ax.spines['top'].set_color('none')\n",
        "  ax.legend()\n",
        "\n",
        "X = np.linspace(-10, 10, 100)\n",
        "H = sigmoid(X)\n",
        "\n",
        "plot_centered_graph(X, H, 1, 'sigmoid')"
      ],
      "execution_count": 11,
      "outputs": [
        {
          "output_type": "display_data",
          "data": {
            "image/png": "[encoded data removed]",
            "text/plain": [
              "<Figure size 2160x1440 with 1 Axes>"
            ]
          },
          "metadata": {
            "needs_background": "light"
          }
        }
      ]
    },
    {
      "cell_type": "code",
      "metadata": {
        "colab": {
          "base_uri": "https://localhost:8080/"
        },
        "id": "Ag0BR-q936mQ",
        "outputId": "13486f0b-122e-4800-d7cc-79429e51c61f"
      },
      "source": [
        "-np.log(0.001)"
      ],
      "execution_count": 25,
      "outputs": [
        {
          "output_type": "execute_result",
          "data": {
            "text/plain": [
              "6.907755278982137"
            ]
          },
          "metadata": {},
          "execution_count": 25
        }
      ]
    },
    {
      "cell_type": "markdown",
      "metadata": {
        "id": "qZwoQMFX2FSt"
      },
      "source": [
        "If correctly implemented, the plotting of the sigmoid function should look like this:"
      ]
    },
    {
      "cell_type": "markdown",
      "metadata": {
        "id": "zoSa3gG42Db3"
      },
      "source": [
        "![image.png](data:image/png;base64,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)"
      ]
    },
    {
      "cell_type": "markdown",
      "metadata": {
        "id": "f0dsEALGsn3Z"
      },
      "source": [
        "## Cost Function\n",
        "cannot use the same cost function that we use for linear regression because the Logistic Function will cause the output to be wavy, causing many local optima. In other words, it will not be a convex function.\n",
        "Instead, we want to use the following cost function which is actually a combination of two cases: when y = 1 and y = 0.\n",
        "\n",
        "\n",
        "$$ J(\\theta) = \\frac{1}{m}\\sum\\limits_{t=1}^{m}(Cost(h_\\theta(x^{(i)}), y^{(i)}) $$\n",
        "\n",
        "$$ Cost(h_\\theta(x^{(i)}), y^{(i)}) = -\\frac{1}{m}[\\sum\\limits_{i=1}^m y^{(i)}log (h_\\theta(x^{(i)})) + (1 - y^{(i)})log(1-h_\\theta(x^{(i)}))]$$\n",
        "\n",
        "The goal of the logistic regression is to find $\\theta$ that minimizes the cost function $ J(\\theta) $"
      ]
    },
    {
      "cell_type": "markdown",
      "metadata": {
        "id": "2KYmYrSAxHju"
      },
      "source": [
        "## Gradient Descent\n",
        "The gradient descent formula is the same as that of linear regression, except that h (hypothesis) is sigmoid. \n",
        "\n",
        "$$ \\theta_j = \\theta_j - \\alpha \\frac{1}{m} \\sum_{i=1}^m \\left( h_\\theta(x^{(i)}) - y^{(i)}\\right)x_j^{(i)} \\qquad \\text{simultaneously update } \\theta_j \\text{ for all } j$$"
      ]
    },
    {
      "cell_type": "markdown",
      "metadata": {
        "id": "qBVuhik7Btsv"
      },
      "source": [
        "# Sample dataset:\n",
        " [sklearn diabetes](https://scikit-learn.org/stable/datasets/toy_dataset.html)\n",
        "\n",
        "Features are computed from a digitized image of a fine needle aspirate (FNA) of a breast mass. They describe characteristics of the cell nuclei present in the image.\n",
        "\n",
        "## X column attributes:\n",
        "1. radius (mean of distances from center to points on the perimeter)\n",
        "2. texture (standard deviation of gray-scale values)\n",
        "3. perimeter\n",
        "4. area\n",
        "5. smoothness (local variation in radius lengths)\n",
        "6. compactness (perimeter^2 / area - 1.0)\n",
        "7. concavity (severity of concave portions of the contour)\n",
        "8. concave points (number of concave portions of the contour)\n",
        "9. symmetry\n",
        "10. fractal dimension (“coastline approximation” - 1)\n",
        "\n",
        "(mean centered and scaled by the standard deviation times n_samples (i.e. the sum of squares of each column totals 1).\n",
        "\n",
        "## y target value:\n",
        "  1: malignant (212) 0: benign (357)"
      ]
    },
    {
      "cell_type": "code",
      "metadata": {
        "id": "30hC8Y_UXs8C",
        "colab": {
          "base_uri": "https://localhost:8080/"
        },
        "outputId": "c61be17e-2878-45a7-c8a3-ddfdbb40b2c7"
      },
      "source": [
        "!git clone https://github.com/changsin/MIU_ML"
      ],
      "execution_count": 26,
      "outputs": [
        {
          "output_type": "stream",
          "name": "stdout",
          "text": [
            "Cloning into 'MIU_ML'...\n",
            "remote: Enumerating objects: 1003, done.\u001b[K\n",
            "remote: Counting objects: 100% (1003/1003), done.\u001b[K\n",
            "remote: Compressing objects: 100% (907/907), done.\u001b[K\n",
            "remote: Total 1003 (delta 24), reused 967 (delta 8), pack-reused 0\u001b[K\n",
            "Receiving objects: 100% (1003/1003), 231.12 MiB | 37.41 MiB/s, done.\n",
            "Resolving deltas: 100% (24/24), done.\n"
          ]
        }
      ]
    },
    {
      "cell_type": "code",
      "metadata": {
        "id": "oKv0UvYDGJqB",
        "colab": {
          "base_uri": "https://localhost:8080/"
        },
        "outputId": "a89fa532-98a2-4643-a275-d3942c4d584b"
      },
      "source": [
        "from sklearn import datasets\n",
        "\n",
        "X, y = datasets.load_breast_cancer(return_X_y=True)\n",
        "\n",
        "X.shape"
      ],
      "execution_count": null,
      "outputs": [
        {
          "output_type": "execute_result",
          "data": {
            "text/plain": [
              "(569, 30)"
            ]
          },
          "metadata": {},
          "execution_count": 2
        }
      ]
    },
    {
      "cell_type": "code",
      "metadata": {
        "id": "J1XwWS1ZFndp"
      },
      "source": [
        "import numpy as np\n",
        "import matplotlib.pyplot as plt\n",
        "\n",
        "def plot_data(X, y):\n",
        "  positives = X[y == 1]\n",
        "  negatives = X[y == 0]\n",
        "\n",
        "  fig, ax = plt.subplots()\n",
        "  ax.plot(positives[:, 0], positives[:, 1], marker='o', linestyle='', ms=12, label='+')\n",
        "  ax.plot(negatives[:, 0], negatives[:, 1], marker='o', linestyle='', ms=12, label='-')\n",
        "\n",
        "  plt.legend()\n",
        "\n",
        "  return ax"
      ],
      "execution_count": null,
      "outputs": []
    },
    {
      "cell_type": "markdown",
      "metadata": {
        "id": "BpN7haki3ivB"
      },
      "source": [
        "## Plot tumor size vs. malignant"
      ]
    },
    {
      "cell_type": "code",
      "metadata": {
        "id": "b7JoTJUq3ewA",
        "colab": {
          "base_uri": "https://localhost:8080/",
          "height": 282
        },
        "outputId": "bb6f9a01-881e-4d3a-8f35-5c959e6eb21c"
      },
      "source": [
        "data = np.stack((X[:, 0], y), axis=1)\n",
        "\n",
        "plot_data(data, y)"
      ],
      "execution_count": null,
      "outputs": [
        {
          "output_type": "execute_result",
          "data": {
            "text/plain": [
              "<matplotlib.axes._subplots.AxesSubplot at 0x7f089c7b0250>"
            ]
          },
          "metadata": {},
          "execution_count": 4
        },
        {
          "output_type": "display_data",
          "data": {
            "image/png": "[encoded data removed]",
            "text/plain": [
              "<Figure size 432x288 with 1 Axes>"
            ]
          },
          "metadata": {
            "needs_background": "light"
          }
        }
      ]
    },
    {
      "cell_type": "markdown",
      "metadata": {
        "id": "ZT-wF9Ih3rT7"
      },
      "source": [
        "## Plot tumor size and texture"
      ]
    },
    {
      "cell_type": "code",
      "metadata": {
        "id": "ORXgM1uI2-L5",
        "colab": {
          "base_uri": "https://localhost:8080/",
          "height": 265
        },
        "outputId": "482e381e-9ef8-4c1e-ccc7-160db28c0336"
      },
      "source": [
        "data = np.stack((X[:, 0], X[:, 1]), axis=1)\n",
        "\n",
        "ax = plot_data(data, y)"
      ],
      "execution_count": null,
      "outputs": [
        {
          "output_type": "display_data",
          "data": {
            "image/png": "[encoded data removed]",
            "text/plain": [
              "<Figure size 432x288 with 1 Axes>"
            ]
          },
          "metadata": {
            "needs_background": "light"
          }
        }
      ]
    },
    {
      "cell_type": "code",
      "metadata": {
        "id": "XIHV8tihJwrJ",
        "colab": {
          "base_uri": "https://localhost:8080/"
        },
        "outputId": "a73379e2-bbc8-4265-d107-893827a003a5"
      },
      "source": [
        "\n",
        "from sklearn.linear_model import LogisticRegression\n",
        "\n",
        "model_logistic_regression = LogisticRegression()\n",
        "model_logistic_regression.fit(X[:, :2], y)"
      ],
      "execution_count": null,
      "outputs": [
        {
          "output_type": "execute_result",
          "data": {
            "text/plain": [
              "LogisticRegression(C=1.0, class_weight=None, dual=False, fit_intercept=True,\n",
              "                   intercept_scaling=1, l1_ratio=None, max_iter=100,\n",
              "                   multi_class='auto', n_jobs=None, penalty='l2',\n",
              "                   random_state=None, solver='lbfgs', tol=0.0001, verbose=0,\n",
              "                   warm_start=False)"
            ]
          },
          "metadata": {},
          "execution_count": 6
        }
      ]
    },
    {
      "cell_type": "code",
      "metadata": {
        "id": "DHkQ21wcKEVy",
        "colab": {
          "base_uri": "https://localhost:8080/"
        },
        "outputId": "9c0c0c80-1fc9-4b8c-f816-95a60449e8df"
      },
      "source": [
        "\n",
        "errors = np.sum(y != model_logistic_regression.predict(X[:, :2]))\n",
        "total = y.shape[0]\n",
        "accurate = total - errors\n",
        "print(\"Accuracy: {:.02f} ({}/{})\".format((total - errors)/total, accurate, total))"
      ],
      "execution_count": null,
      "outputs": [
        {
          "output_type": "stream",
          "name": "stdout",
          "text": [
            "Accuracy: 0.89 (507/569)\n"
          ]
        }
      ]
    },
    {
      "cell_type": "code",
      "metadata": {
        "id": "LF08Qayp_E2G"
      },
      "source": [
        ""
      ],
      "execution_count": null,
      "outputs": []
    }
  ]
}